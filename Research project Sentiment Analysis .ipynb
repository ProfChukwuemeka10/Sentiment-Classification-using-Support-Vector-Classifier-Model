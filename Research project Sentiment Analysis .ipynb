{
 "cells": [
  {
   "cell_type": "code",
   "execution_count": 6,
   "id": "3ac1949d-fc5c-4e04-b796-c8996f3dece9",
   "metadata": {},
   "outputs": [],
   "source": [
    "import pandas as pd\n",
    "import numpy as np\n",
    "import matplotlib.pyplot as plt\n",
    "%matplotlib inline\n",
    "import spacy"
   ]
  },
  {
   "cell_type": "code",
   "execution_count": 8,
   "id": "fffbea0d-c38c-4265-aa9c-fa06fc731e7a",
   "metadata": {},
   "outputs": [
    {
     "data": {
      "text/html": [
       "<div>\n",
       "<style scoped>\n",
       "    .dataframe tbody tr th:only-of-type {\n",
       "        vertical-align: middle;\n",
       "    }\n",
       "\n",
       "    .dataframe tbody tr th {\n",
       "        vertical-align: top;\n",
       "    }\n",
       "\n",
       "    .dataframe thead th {\n",
       "        text-align: right;\n",
       "    }\n",
       "</style>\n",
       "<table border=\"1\" class=\"dataframe\">\n",
       "  <thead>\n",
       "    <tr style=\"text-align: right;\">\n",
       "      <th></th>\n",
       "      <th>Rating</th>\n",
       "      <th>OverallRating</th>\n",
       "      <th>ReviewHeader</th>\n",
       "      <th>Name</th>\n",
       "      <th>Datetime</th>\n",
       "      <th>VerifiedReview</th>\n",
       "      <th>ReviewBody</th>\n",
       "      <th>TypeOfTraveller</th>\n",
       "      <th>SeatType</th>\n",
       "      <th>Route</th>\n",
       "      <th>DateFlown</th>\n",
       "      <th>SeatComfort</th>\n",
       "      <th>CabinStaffService</th>\n",
       "      <th>GroundService</th>\n",
       "      <th>ValueForMoney</th>\n",
       "      <th>Recommended</th>\n",
       "      <th>Aircraft</th>\n",
       "      <th>Food&amp;Beverages</th>\n",
       "      <th>InflightEntertainment</th>\n",
       "      <th>Wifi&amp;Connectivity</th>\n",
       "    </tr>\n",
       "  </thead>\n",
       "  <tbody>\n",
       "    <tr>\n",
       "      <th>0</th>\n",
       "      <td>1.0</td>\n",
       "      <td>1.0</td>\n",
       "      <td>\"Service level far worse then Ryanair\"</td>\n",
       "      <td>L Keele</td>\n",
       "      <td>19th November 2023</td>\n",
       "      <td>True</td>\n",
       "      <td>4 Hours before takeoff we received a Mail stat...</td>\n",
       "      <td>Couple Leisure</td>\n",
       "      <td>Economy Class</td>\n",
       "      <td>London to Stuttgart</td>\n",
       "      <td>Nov-23</td>\n",
       "      <td>1.0</td>\n",
       "      <td>1.0</td>\n",
       "      <td>1.0</td>\n",
       "      <td>1.0</td>\n",
       "      <td>no</td>\n",
       "      <td>NaN</td>\n",
       "      <td>NaN</td>\n",
       "      <td>NaN</td>\n",
       "      <td>NaN</td>\n",
       "    </tr>\n",
       "    <tr>\n",
       "      <th>1</th>\n",
       "      <td>1.0</td>\n",
       "      <td>3.0</td>\n",
       "      <td>\"do not upgrade members based on status\"</td>\n",
       "      <td>Austin Jones</td>\n",
       "      <td>19th November 2023</td>\n",
       "      <td>True</td>\n",
       "      <td>I recently had a delay on British Airways from...</td>\n",
       "      <td>Business</td>\n",
       "      <td>Economy Class</td>\n",
       "      <td>Brussels to London</td>\n",
       "      <td>Nov-23</td>\n",
       "      <td>2.0</td>\n",
       "      <td>3.0</td>\n",
       "      <td>1.0</td>\n",
       "      <td>2.0</td>\n",
       "      <td>no</td>\n",
       "      <td>A320</td>\n",
       "      <td>1.0</td>\n",
       "      <td>2.0</td>\n",
       "      <td>2.0</td>\n",
       "    </tr>\n",
       "    <tr>\n",
       "      <th>2</th>\n",
       "      <td>0.0</td>\n",
       "      <td>2.0</td>\n",
       "      <td>\"Flight was smooth and quick\"</td>\n",
       "      <td>M A Collie</td>\n",
       "      <td>16th November 2023</td>\n",
       "      <td>False</td>\n",
       "      <td>Boarded on time, but it took ages to get to th...</td>\n",
       "      <td>Couple Leisure</td>\n",
       "      <td>Business Class</td>\n",
       "      <td>London Heathrow to Dublin</td>\n",
       "      <td>Nov-23</td>\n",
       "      <td>3.0</td>\n",
       "      <td>3.0</td>\n",
       "      <td>4.0</td>\n",
       "      <td>3.0</td>\n",
       "      <td>yes</td>\n",
       "      <td>A320</td>\n",
       "      <td>4.0</td>\n",
       "      <td>NaN</td>\n",
       "      <td>NaN</td>\n",
       "    </tr>\n",
       "    <tr>\n",
       "      <th>3</th>\n",
       "      <td>1.0</td>\n",
       "      <td>1.0</td>\n",
       "      <td>\"Absolutely hopeless airline\"</td>\n",
       "      <td>Nigel Dean</td>\n",
       "      <td>16th November 2023</td>\n",
       "      <td>True</td>\n",
       "      <td>5 days before the flight, we were advised by B...</td>\n",
       "      <td>Couple Leisure</td>\n",
       "      <td>Economy Class</td>\n",
       "      <td>London to Dublin</td>\n",
       "      <td>Dec-22</td>\n",
       "      <td>3.0</td>\n",
       "      <td>3.0</td>\n",
       "      <td>1.0</td>\n",
       "      <td>1.0</td>\n",
       "      <td>no</td>\n",
       "      <td>NaN</td>\n",
       "      <td>NaN</td>\n",
       "      <td>NaN</td>\n",
       "      <td>NaN</td>\n",
       "    </tr>\n",
       "    <tr>\n",
       "      <th>4</th>\n",
       "      <td>1.0</td>\n",
       "      <td>1.0</td>\n",
       "      <td>\"Customer Service is non existent\"</td>\n",
       "      <td>Gaylynne Simpson</td>\n",
       "      <td>14th November 2023</td>\n",
       "      <td>False</td>\n",
       "      <td>We traveled to Lisbon for our dream vacation, ...</td>\n",
       "      <td>Couple Leisure</td>\n",
       "      <td>Economy Class</td>\n",
       "      <td>London to Lisbon</td>\n",
       "      <td>Nov-23</td>\n",
       "      <td>1.0</td>\n",
       "      <td>1.0</td>\n",
       "      <td>1.0</td>\n",
       "      <td>1.0</td>\n",
       "      <td>no</td>\n",
       "      <td>NaN</td>\n",
       "      <td>1.0</td>\n",
       "      <td>1.0</td>\n",
       "      <td>1.0</td>\n",
       "    </tr>\n",
       "  </tbody>\n",
       "</table>\n",
       "</div>"
      ],
      "text/plain": [
       "   Rating  OverallRating                              ReviewHeader  \\\n",
       "0     1.0            1.0    \"Service level far worse then Ryanair\"   \n",
       "1     1.0            3.0  \"do not upgrade members based on status\"   \n",
       "2     0.0            2.0             \"Flight was smooth and quick\"   \n",
       "3     1.0            1.0             \"Absolutely hopeless airline\"   \n",
       "4     1.0            1.0        \"Customer Service is non existent\"   \n",
       "\n",
       "               Name            Datetime  VerifiedReview  \\\n",
       "0           L Keele  19th November 2023            True   \n",
       "1      Austin Jones  19th November 2023            True   \n",
       "2        M A Collie  16th November 2023           False   \n",
       "3        Nigel Dean  16th November 2023            True   \n",
       "4  Gaylynne Simpson  14th November 2023           False   \n",
       "\n",
       "                                          ReviewBody TypeOfTraveller  \\\n",
       "0  4 Hours before takeoff we received a Mail stat...  Couple Leisure   \n",
       "1  I recently had a delay on British Airways from...        Business   \n",
       "2  Boarded on time, but it took ages to get to th...  Couple Leisure   \n",
       "3  5 days before the flight, we were advised by B...  Couple Leisure   \n",
       "4  We traveled to Lisbon for our dream vacation, ...  Couple Leisure   \n",
       "\n",
       "         SeatType                      Route DateFlown  SeatComfort  \\\n",
       "0   Economy Class        London to Stuttgart    Nov-23          1.0   \n",
       "1   Economy Class         Brussels to London    Nov-23          2.0   \n",
       "2  Business Class  London Heathrow to Dublin    Nov-23          3.0   \n",
       "3   Economy Class           London to Dublin    Dec-22          3.0   \n",
       "4   Economy Class           London to Lisbon    Nov-23          1.0   \n",
       "\n",
       "   CabinStaffService  GroundService  ValueForMoney Recommended Aircraft  \\\n",
       "0                1.0            1.0            1.0          no      NaN   \n",
       "1                3.0            1.0            2.0          no     A320   \n",
       "2                3.0            4.0            3.0         yes     A320   \n",
       "3                3.0            1.0            1.0          no      NaN   \n",
       "4                1.0            1.0            1.0          no      NaN   \n",
       "\n",
       "   Food&Beverages  InflightEntertainment  Wifi&Connectivity  \n",
       "0             NaN                    NaN                NaN  \n",
       "1             1.0                    2.0                2.0  \n",
       "2             4.0                    NaN                NaN  \n",
       "3             NaN                    NaN                NaN  \n",
       "4             1.0                    1.0                1.0  "
      ]
     },
     "execution_count": 8,
     "metadata": {},
     "output_type": "execute_result"
    }
   ],
   "source": [
    "data = pd.read_csv(\"BA_AirlineReviews_number.csv\")\n",
    "data.head()"
   ]
  },
  {
   "cell_type": "code",
   "execution_count": 9,
   "id": "1b37bdc9-b156-4218-a041-44acdab6dd64",
   "metadata": {
    "scrolled": true
   },
   "outputs": [
    {
     "data": {
      "text/plain": [
       "Index(['Rating', 'OverallRating', 'ReviewHeader', 'Name', 'Datetime',\n",
       "       'VerifiedReview', 'ReviewBody', 'TypeOfTraveller', 'SeatType', 'Route',\n",
       "       'DateFlown', 'SeatComfort', 'CabinStaffService', 'GroundService',\n",
       "       'ValueForMoney', 'Recommended', 'Aircraft', 'Food&Beverages',\n",
       "       'InflightEntertainment', 'Wifi&Connectivity'],\n",
       "      dtype='object')"
      ]
     },
     "execution_count": 9,
     "metadata": {},
     "output_type": "execute_result"
    }
   ],
   "source": [
    "data.columns"
   ]
  },
  {
   "cell_type": "code",
   "execution_count": 33,
   "id": "16ac4c1a-250f-436c-a18d-cab9778d7599",
   "metadata": {},
   "outputs": [],
   "source": [
    "data = data[[\"OverallRating\",\"ReviewBody\"]]"
   ]
  },
  {
   "cell_type": "code",
   "execution_count": 34,
   "id": "0e6b7794-5dc8-48d9-8927-89efbf2b3011",
   "metadata": {},
   "outputs": [
    {
     "data": {
      "text/html": [
       "<div>\n",
       "<style scoped>\n",
       "    .dataframe tbody tr th:only-of-type {\n",
       "        vertical-align: middle;\n",
       "    }\n",
       "\n",
       "    .dataframe tbody tr th {\n",
       "        vertical-align: top;\n",
       "    }\n",
       "\n",
       "    .dataframe thead th {\n",
       "        text-align: right;\n",
       "    }\n",
       "</style>\n",
       "<table border=\"1\" class=\"dataframe\">\n",
       "  <thead>\n",
       "    <tr style=\"text-align: right;\">\n",
       "      <th></th>\n",
       "      <th>OverallRating</th>\n",
       "      <th>ReviewBody</th>\n",
       "    </tr>\n",
       "  </thead>\n",
       "  <tbody>\n",
       "    <tr>\n",
       "      <th>0</th>\n",
       "      <td>1.0</td>\n",
       "      <td>4 Hours before takeoff we receive a Mail stati...</td>\n",
       "    </tr>\n",
       "    <tr>\n",
       "      <th>1</th>\n",
       "      <td>3.0</td>\n",
       "      <td>I recently ha a elay on British Airways from B...</td>\n",
       "    </tr>\n",
       "    <tr>\n",
       "      <th>2</th>\n",
       "      <td>2.0</td>\n",
       "      <td>Boare on time, but it took ages to get to the ...</td>\n",
       "    </tr>\n",
       "    <tr>\n",
       "      <th>3</th>\n",
       "      <td>1.0</td>\n",
       "      <td>5 ays before the flight, we were avise by BA t...</td>\n",
       "    </tr>\n",
       "    <tr>\n",
       "      <th>4</th>\n",
       "      <td>1.0</td>\n",
       "      <td>We travele to Lisbon for our ream vacation, a ...</td>\n",
       "    </tr>\n",
       "  </tbody>\n",
       "</table>\n",
       "</div>"
      ],
      "text/plain": [
       "   OverallRating                                         ReviewBody\n",
       "0            1.0  4 Hours before takeoff we receive a Mail stati...\n",
       "1            3.0  I recently ha a elay on British Airways from B...\n",
       "2            2.0  Boare on time, but it took ages to get to the ...\n",
       "3            1.0  5 ays before the flight, we were avise by BA t...\n",
       "4            1.0  We travele to Lisbon for our ream vacation, a ..."
      ]
     },
     "execution_count": 34,
     "metadata": {},
     "output_type": "execute_result"
    }
   ],
   "source": [
    "data.head()"
   ]
  },
  {
   "cell_type": "code",
   "execution_count": 35,
   "id": "3d002b5b-aebc-48ee-845b-35d6c4e2bf14",
   "metadata": {},
   "outputs": [
    {
     "data": {
      "text/plain": [
       "0"
      ]
     },
     "execution_count": 35,
     "metadata": {},
     "output_type": "execute_result"
    }
   ],
   "source": [
    "# TO check for null values\n",
    "\n",
    "data[\"ReviewBody\"].isnull().sum()"
   ]
  },
  {
   "cell_type": "code",
   "execution_count": 36,
   "id": "f832f228-ceef-4f01-ab46-7707c4774b4b",
   "metadata": {},
   "outputs": [
    {
     "data": {
      "text/plain": [
       "0"
      ]
     },
     "execution_count": 36,
     "metadata": {},
     "output_type": "execute_result"
    }
   ],
   "source": [
    "# TO check for NA values\n",
    "\n",
    "data[\"ReviewBody\"].isna().sum()"
   ]
  },
  {
   "cell_type": "code",
   "execution_count": 37,
   "id": "cc53459c-98d5-4234-9d30-537928f47e19",
   "metadata": {},
   "outputs": [],
   "source": [
    "nlp = spacy.load(\"en_core_web_sm\")"
   ]
  },
  {
   "cell_type": "code",
   "execution_count": 38,
   "id": "777190e8-bde1-40d6-a0fc-4b0ab97246fc",
   "metadata": {},
   "outputs": [],
   "source": [
    "# importing the display module to display the diagram\n",
    "\n",
    "from spacy import displacy"
   ]
  },
  {
   "cell_type": "code",
   "execution_count": 40,
   "id": "d780c646-f9b4-462f-af19-09156e06c396",
   "metadata": {},
   "outputs": [
    {
     "data": {
      "text/plain": [
       "9"
      ]
     },
     "execution_count": 40,
     "metadata": {},
     "output_type": "execute_result"
    }
   ],
   "source": [
    "# To check for duplicated fill or characters\n",
    "\n",
    "data.duplicated().sum()"
   ]
  },
  {
   "cell_type": "code",
   "execution_count": 42,
   "id": "d44cbbe7-e58a-4847-ac51-1e250e494bd0",
   "metadata": {},
   "outputs": [
    {
     "name": "stderr",
     "output_type": "stream",
     "text": [
      "C:\\Users\\DELL\\AppData\\Local\\Temp\\ipykernel_5540\\1290175872.py:1: SettingWithCopyWarning: \n",
      "A value is trying to be set on a copy of a slice from a DataFrame\n",
      "\n",
      "See the caveats in the documentation: https://pandas.pydata.org/pandas-docs/stable/user_guide/indexing.html#returning-a-view-versus-a-copy\n",
      "  data['ReviewBody'].drop_duplicates(inplace = True)\n"
     ]
    }
   ],
   "source": [
    "data['ReviewBody'].drop_duplicates(inplace = True)"
   ]
  },
  {
   "cell_type": "code",
   "execution_count": 43,
   "id": "00775b87-a33b-44ee-ac05-3226f6f47656",
   "metadata": {},
   "outputs": [
    {
     "data": {
      "text/plain": [
       "0"
      ]
     },
     "execution_count": 43,
     "metadata": {},
     "output_type": "execute_result"
    }
   ],
   "source": [
    "data.duplicated().sum()"
   ]
  },
  {
   "cell_type": "code",
   "execution_count": 44,
   "id": "9ee6e07a-8536-441e-92ee-a49269682678",
   "metadata": {},
   "outputs": [
    {
     "data": {
      "text/html": [
       "<div>\n",
       "<style scoped>\n",
       "    .dataframe tbody tr th:only-of-type {\n",
       "        vertical-align: middle;\n",
       "    }\n",
       "\n",
       "    .dataframe tbody tr th {\n",
       "        vertical-align: top;\n",
       "    }\n",
       "\n",
       "    .dataframe thead th {\n",
       "        text-align: right;\n",
       "    }\n",
       "</style>\n",
       "<table border=\"1\" class=\"dataframe\">\n",
       "  <thead>\n",
       "    <tr style=\"text-align: right;\">\n",
       "      <th></th>\n",
       "      <th>OverallRating</th>\n",
       "      <th>ReviewBody</th>\n",
       "    </tr>\n",
       "  </thead>\n",
       "  <tbody>\n",
       "    <tr>\n",
       "      <th>0</th>\n",
       "      <td>1.0</td>\n",
       "      <td>4 Hours before takeoff we receive a Mail stati...</td>\n",
       "    </tr>\n",
       "    <tr>\n",
       "      <th>1</th>\n",
       "      <td>3.0</td>\n",
       "      <td>I recently ha a elay on British Airways from B...</td>\n",
       "    </tr>\n",
       "    <tr>\n",
       "      <th>2</th>\n",
       "      <td>2.0</td>\n",
       "      <td>Boare on time, but it took ages to get to the ...</td>\n",
       "    </tr>\n",
       "    <tr>\n",
       "      <th>3</th>\n",
       "      <td>1.0</td>\n",
       "      <td>5 ays before the flight, we were avise by BA t...</td>\n",
       "    </tr>\n",
       "    <tr>\n",
       "      <th>4</th>\n",
       "      <td>1.0</td>\n",
       "      <td>We travele to Lisbon for our ream vacation, a ...</td>\n",
       "    </tr>\n",
       "  </tbody>\n",
       "</table>\n",
       "</div>"
      ],
      "text/plain": [
       "   OverallRating                                         ReviewBody\n",
       "0            1.0  4 Hours before takeoff we receive a Mail stati...\n",
       "1            3.0  I recently ha a elay on British Airways from B...\n",
       "2            2.0  Boare on time, but it took ages to get to the ...\n",
       "3            1.0  5 ays before the flight, we were avise by BA t...\n",
       "4            1.0  We travele to Lisbon for our ream vacation, a ..."
      ]
     },
     "execution_count": 44,
     "metadata": {},
     "output_type": "execute_result"
    }
   ],
   "source": [
    "data.head()"
   ]
  },
  {
   "cell_type": "code",
   "execution_count": 46,
   "id": "14e606ce-cc54-4b44-b1d5-c0fcc0615215",
   "metadata": {},
   "outputs": [],
   "source": [
    "## to check for blanks or blank spaces\n",
    "\n",
    "blanks = []\n",
    "for index in data['ReviewBody']:\n",
    "    if index.isspace() == True:\n",
    "        blanks.append(index)"
   ]
  },
  {
   "cell_type": "code",
   "execution_count": 47,
   "id": "ec7be471-f578-46f6-a552-0421b70e0c0c",
   "metadata": {},
   "outputs": [
    {
     "name": "stdout",
     "output_type": "stream",
     "text": [
      "[]\n"
     ]
    }
   ],
   "source": [
    "print(blanks)"
   ]
  },
  {
   "cell_type": "code",
   "execution_count": 48,
   "id": "84d55dd1-ef96-49a3-b43a-c27e515e0d42",
   "metadata": {},
   "outputs": [
    {
     "data": {
      "text/plain": [
       "OverallRating\n",
       "6.0     189\n",
       "5.0     234\n",
       "4.0     253\n",
       "3.0     406\n",
       "1.0     864\n",
       "2.0    1741\n",
       "Name: count, dtype: int64"
      ]
     },
     "execution_count": 48,
     "metadata": {},
     "output_type": "execute_result"
    }
   ],
   "source": [
    "data['OverallRating'].value_counts().sort_values()"
   ]
  },
  {
   "cell_type": "code",
   "execution_count": 49,
   "id": "3f260e0d-1f8a-410c-807b-321a744ba989",
   "metadata": {},
   "outputs": [
    {
     "data": {
      "text/plain": [
       "<Axes: xlabel='OverallRating'>"
      ]
     },
     "execution_count": 49,
     "metadata": {},
     "output_type": "execute_result"
    },
    {
     "data": {
      "image/png": "[encoded data removed]",
      "text/plain": [
       "<Figure size 640x480 with 1 Axes>"
      ]
     },
     "metadata": {},
     "output_type": "display_data"
    }
   ],
   "source": [
    "data['OverallRating'].value_counts().sort_values().plot(kind = \"bar\")"
   ]
  },
  {
   "cell_type": "code",
   "execution_count": 57,
   "id": "bbfb9cb1-f3e8-4a46-99de-d9d708d86c80",
   "metadata": {},
   "outputs": [],
   "source": [
    "# splitting the rating into positive and negative\n",
    "\n",
    "def rating(rating):\n",
    "    if rating >=3 and rating <= 6:\n",
    "        return \"positive\"\n",
    "    if rating >0 and rating < 3:\n",
    "        return \"negative\""
   ]
  },
  {
   "cell_type": "code",
   "execution_count": 60,
   "id": "30a48276-92c4-4abc-b815-e89aaa739b4a",
   "metadata": {},
   "outputs": [],
   "source": [
    "def rating(rating):\n",
    "    if rating >= 4.0 and rating <=6.0:\n",
    "        return \"positive\"\n",
    "    if rating >=0.0 and rating <=3.0:\n",
    "        return \"negative\""
   ]
  },
  {
   "cell_type": "code",
   "execution_count": 61,
   "id": "b3593500-2b53-421c-ae93-3f14c993a80f",
   "metadata": {},
   "outputs": [
    {
     "name": "stderr",
     "output_type": "stream",
     "text": [
      "C:\\Users\\DELL\\AppData\\Local\\Temp\\ipykernel_5540\\3479333893.py:1: SettingWithCopyWarning: \n",
      "A value is trying to be set on a copy of a slice from a DataFrame.\n",
      "Try using .loc[row_indexer,col_indexer] = value instead\n",
      "\n",
      "See the caveats in the documentation: https://pandas.pydata.org/pandas-docs/stable/user_guide/indexing.html#returning-a-view-versus-a-copy\n",
      "  data['rating'] = data['OverallRating'].apply(rating)\n"
     ]
    }
   ],
   "source": [
    "data['rating'] = data['OverallRating'].apply(rating)"
   ]
  },
  {
   "cell_type": "code",
   "execution_count": 62,
   "id": "9ec75ca4-90c6-4c92-9401-deff21c10779",
   "metadata": {},
   "outputs": [
    {
     "data": {
      "text/html": [
       "<div>\n",
       "<style scoped>\n",
       "    .dataframe tbody tr th:only-of-type {\n",
       "        vertical-align: middle;\n",
       "    }\n",
       "\n",
       "    .dataframe tbody tr th {\n",
       "        vertical-align: top;\n",
       "    }\n",
       "\n",
       "    .dataframe thead th {\n",
       "        text-align: right;\n",
       "    }\n",
       "</style>\n",
       "<table border=\"1\" class=\"dataframe\">\n",
       "  <thead>\n",
       "    <tr style=\"text-align: right;\">\n",
       "      <th></th>\n",
       "      <th>OverallRating</th>\n",
       "      <th>ReviewBody</th>\n",
       "      <th>rating</th>\n",
       "    </tr>\n",
       "  </thead>\n",
       "  <tbody>\n",
       "    <tr>\n",
       "      <th>0</th>\n",
       "      <td>1.0</td>\n",
       "      <td>4 Hours before takeoff we receive a Mail stati...</td>\n",
       "      <td>negative</td>\n",
       "    </tr>\n",
       "    <tr>\n",
       "      <th>1</th>\n",
       "      <td>3.0</td>\n",
       "      <td>I recently ha a elay on British Airways from B...</td>\n",
       "      <td>negative</td>\n",
       "    </tr>\n",
       "    <tr>\n",
       "      <th>2</th>\n",
       "      <td>2.0</td>\n",
       "      <td>Boare on time, but it took ages to get to the ...</td>\n",
       "      <td>negative</td>\n",
       "    </tr>\n",
       "    <tr>\n",
       "      <th>3</th>\n",
       "      <td>1.0</td>\n",
       "      <td>5 ays before the flight, we were avise by BA t...</td>\n",
       "      <td>negative</td>\n",
       "    </tr>\n",
       "    <tr>\n",
       "      <th>4</th>\n",
       "      <td>1.0</td>\n",
       "      <td>We travele to Lisbon for our ream vacation, a ...</td>\n",
       "      <td>negative</td>\n",
       "    </tr>\n",
       "  </tbody>\n",
       "</table>\n",
       "</div>"
      ],
      "text/plain": [
       "   OverallRating                                         ReviewBody    rating\n",
       "0            1.0  4 Hours before takeoff we receive a Mail stati...  negative\n",
       "1            3.0  I recently ha a elay on British Airways from B...  negative\n",
       "2            2.0  Boare on time, but it took ages to get to the ...  negative\n",
       "3            1.0  5 ays before the flight, we were avise by BA t...  negative\n",
       "4            1.0  We travele to Lisbon for our ream vacation, a ...  negative"
      ]
     },
     "execution_count": 62,
     "metadata": {},
     "output_type": "execute_result"
    }
   ],
   "source": [
    "data.head()"
   ]
  },
  {
   "cell_type": "code",
   "execution_count": 65,
   "id": "7d5fb1df-c299-425d-96e6-ef2caeacc7ae",
   "metadata": {},
   "outputs": [
    {
     "data": {
      "text/plain": [
       "<Axes: xlabel='rating'>"
      ]
     },
     "execution_count": 65,
     "metadata": {},
     "output_type": "execute_result"
    },
    {
     "data": {
      "image/png": "[encoded data removed]",
      "text/plain": [
       "<Figure size 640x480 with 1 Axes>"
      ]
     },
     "metadata": {},
     "output_type": "display_data"
    }
   ],
   "source": [
    "data['rating'].value_counts().plot(kind = 'bar')"
   ]
  },
  {
   "cell_type": "code",
   "execution_count": 66,
   "id": "10a91917-3f2d-4c99-b595-18210ad1c413",
   "metadata": {},
   "outputs": [],
   "source": [
    "# Sentiment Analysis\n",
    "\n",
    "import nltk\n",
    "import spacy\n",
    "from nltk.sentiment import SentimentIntensityAnalyzer"
   ]
  },
  {
   "cell_type": "code",
   "execution_count": 67,
   "id": "16b17d63-8379-4490-916a-838541fb635f",
   "metadata": {},
   "outputs": [],
   "source": [
    "sentanalyze = SentimentIntensityAnalyzer()"
   ]
  },
  {
   "cell_type": "code",
   "execution_count": 68,
   "id": "b94cb420-fcba-4357-8675-118c07279405",
   "metadata": {},
   "outputs": [
    {
     "name": "stderr",
     "output_type": "stream",
     "text": [
      "C:\\Users\\DELL\\AppData\\Local\\Temp\\ipykernel_5540\\4008210813.py:1: SettingWithCopyWarning: \n",
      "A value is trying to be set on a copy of a slice from a DataFrame.\n",
      "Try using .loc[row_indexer,col_indexer] = value instead\n",
      "\n",
      "See the caveats in the documentation: https://pandas.pydata.org/pandas-docs/stable/user_guide/indexing.html#returning-a-view-versus-a-copy\n",
      "  data['scores'] = data['ReviewBody'].apply(lambda review: sentanalyze.polarity_scores(review))\n"
     ]
    }
   ],
   "source": [
    "# It creates a column Scores and append the polarity sentiment scores inside it.\n",
    "\n",
    "data['scores'] = data['ReviewBody'].apply(lambda review: sentanalyze.polarity_scores(review))"
   ]
  },
  {
   "cell_type": "code",
   "execution_count": 69,
   "id": "4c104bdf-377f-4def-be68-3ba756ddedf2",
   "metadata": {},
   "outputs": [
    {
     "data": {
      "text/html": [
       "<div>\n",
       "<style scoped>\n",
       "    .dataframe tbody tr th:only-of-type {\n",
       "        vertical-align: middle;\n",
       "    }\n",
       "\n",
       "    .dataframe tbody tr th {\n",
       "        vertical-align: top;\n",
       "    }\n",
       "\n",
       "    .dataframe thead th {\n",
       "        text-align: right;\n",
       "    }\n",
       "</style>\n",
       "<table border=\"1\" class=\"dataframe\">\n",
       "  <thead>\n",
       "    <tr style=\"text-align: right;\">\n",
       "      <th></th>\n",
       "      <th>OverallRating</th>\n",
       "      <th>ReviewBody</th>\n",
       "      <th>rating</th>\n",
       "      <th>scores</th>\n",
       "    </tr>\n",
       "  </thead>\n",
       "  <tbody>\n",
       "    <tr>\n",
       "      <th>0</th>\n",
       "      <td>1.0</td>\n",
       "      <td>4 Hours before takeoff we receive a Mail stati...</td>\n",
       "      <td>negative</td>\n",
       "      <td>{'neg': 0.125, 'neu': 0.863, 'pos': 0.012, 'co...</td>\n",
       "    </tr>\n",
       "    <tr>\n",
       "      <th>1</th>\n",
       "      <td>3.0</td>\n",
       "      <td>I recently ha a elay on British Airways from B...</td>\n",
       "      <td>negative</td>\n",
       "      <td>{'neg': 0.093, 'neu': 0.81, 'pos': 0.096, 'com...</td>\n",
       "    </tr>\n",
       "    <tr>\n",
       "      <th>2</th>\n",
       "      <td>2.0</td>\n",
       "      <td>Boare on time, but it took ages to get to the ...</td>\n",
       "      <td>negative</td>\n",
       "      <td>{'neg': 0.0, 'neu': 1.0, 'pos': 0.0, 'compound...</td>\n",
       "    </tr>\n",
       "    <tr>\n",
       "      <th>3</th>\n",
       "      <td>1.0</td>\n",
       "      <td>5 ays before the flight, we were avise by BA t...</td>\n",
       "      <td>negative</td>\n",
       "      <td>{'neg': 0.092, 'neu': 0.803, 'pos': 0.106, 'co...</td>\n",
       "    </tr>\n",
       "    <tr>\n",
       "      <th>4</th>\n",
       "      <td>1.0</td>\n",
       "      <td>We travele to Lisbon for our ream vacation, a ...</td>\n",
       "      <td>negative</td>\n",
       "      <td>{'neg': 0.0, 'neu': 0.981, 'pos': 0.019, 'comp...</td>\n",
       "    </tr>\n",
       "  </tbody>\n",
       "</table>\n",
       "</div>"
      ],
      "text/plain": [
       "   OverallRating                                         ReviewBody    rating  \\\n",
       "0            1.0  4 Hours before takeoff we receive a Mail stati...  negative   \n",
       "1            3.0  I recently ha a elay on British Airways from B...  negative   \n",
       "2            2.0  Boare on time, but it took ages to get to the ...  negative   \n",
       "3            1.0  5 ays before the flight, we were avise by BA t...  negative   \n",
       "4            1.0  We travele to Lisbon for our ream vacation, a ...  negative   \n",
       "\n",
       "                                              scores  \n",
       "0  {'neg': 0.125, 'neu': 0.863, 'pos': 0.012, 'co...  \n",
       "1  {'neg': 0.093, 'neu': 0.81, 'pos': 0.096, 'com...  \n",
       "2  {'neg': 0.0, 'neu': 1.0, 'pos': 0.0, 'compound...  \n",
       "3  {'neg': 0.092, 'neu': 0.803, 'pos': 0.106, 'co...  \n",
       "4  {'neg': 0.0, 'neu': 0.981, 'pos': 0.019, 'comp...  "
      ]
     },
     "execution_count": 69,
     "metadata": {},
     "output_type": "execute_result"
    }
   ],
   "source": [
    "data.head()"
   ]
  },
  {
   "cell_type": "code",
   "execution_count": 71,
   "id": "a781935c-27ba-40a7-84dd-0a5b8b40608e",
   "metadata": {},
   "outputs": [
    {
     "data": {
      "text/plain": [
       "{'neg': 0.123, 'neu': 0.806, 'pos': 0.071, 'compound': -0.9649}"
      ]
     },
     "execution_count": 71,
     "metadata": {},
     "output_type": "execute_result"
    }
   ],
   "source": [
    "# TO view row number 53\n",
    "\n",
    "data.iloc[53]['scores']"
   ]
  },
  {
   "cell_type": "code",
   "execution_count": 72,
   "id": "f2c0631a-9261-41c2-bda5-d1258c56d162",
   "metadata": {},
   "outputs": [
    {
     "name": "stderr",
     "output_type": "stream",
     "text": [
      "C:\\Users\\DELL\\AppData\\Local\\Temp\\ipykernel_5540\\846856740.py:3: SettingWithCopyWarning: \n",
      "A value is trying to be set on a copy of a slice from a DataFrame.\n",
      "Try using .loc[row_indexer,col_indexer] = value instead\n",
      "\n",
      "See the caveats in the documentation: https://pandas.pydata.org/pandas-docs/stable/user_guide/indexing.html#returning-a-view-versus-a-copy\n",
      "  data['compound'] = data['scores'].apply(lambda f: f['compound'])\n"
     ]
    }
   ],
   "source": [
    "# creating a compound column to contain the values of the classification\n",
    "\n",
    "data['compound'] = data['scores'].apply(lambda f: f['compound'])"
   ]
  },
  {
   "cell_type": "code",
   "execution_count": 73,
   "id": "ac115fed-57ff-415f-984a-7af14834315e",
   "metadata": {},
   "outputs": [
    {
     "data": {
      "text/html": [
       "<div>\n",
       "<style scoped>\n",
       "    .dataframe tbody tr th:only-of-type {\n",
       "        vertical-align: middle;\n",
       "    }\n",
       "\n",
       "    .dataframe tbody tr th {\n",
       "        vertical-align: top;\n",
       "    }\n",
       "\n",
       "    .dataframe thead th {\n",
       "        text-align: right;\n",
       "    }\n",
       "</style>\n",
       "<table border=\"1\" class=\"dataframe\">\n",
       "  <thead>\n",
       "    <tr style=\"text-align: right;\">\n",
       "      <th></th>\n",
       "      <th>OverallRating</th>\n",
       "      <th>ReviewBody</th>\n",
       "      <th>rating</th>\n",
       "      <th>scores</th>\n",
       "      <th>compound</th>\n",
       "    </tr>\n",
       "  </thead>\n",
       "  <tbody>\n",
       "    <tr>\n",
       "      <th>0</th>\n",
       "      <td>1.0</td>\n",
       "      <td>4 Hours before takeoff we receive a Mail stati...</td>\n",
       "      <td>negative</td>\n",
       "      <td>{'neg': 0.125, 'neu': 0.863, 'pos': 0.012, 'co...</td>\n",
       "      <td>-0.9392</td>\n",
       "    </tr>\n",
       "    <tr>\n",
       "      <th>1</th>\n",
       "      <td>3.0</td>\n",
       "      <td>I recently ha a elay on British Airways from B...</td>\n",
       "      <td>negative</td>\n",
       "      <td>{'neg': 0.093, 'neu': 0.81, 'pos': 0.096, 'com...</td>\n",
       "      <td>0.1779</td>\n",
       "    </tr>\n",
       "    <tr>\n",
       "      <th>2</th>\n",
       "      <td>2.0</td>\n",
       "      <td>Boare on time, but it took ages to get to the ...</td>\n",
       "      <td>negative</td>\n",
       "      <td>{'neg': 0.0, 'neu': 1.0, 'pos': 0.0, 'compound...</td>\n",
       "      <td>0.0000</td>\n",
       "    </tr>\n",
       "    <tr>\n",
       "      <th>3</th>\n",
       "      <td>1.0</td>\n",
       "      <td>5 ays before the flight, we were avise by BA t...</td>\n",
       "      <td>negative</td>\n",
       "      <td>{'neg': 0.092, 'neu': 0.803, 'pos': 0.106, 'co...</td>\n",
       "      <td>0.5919</td>\n",
       "    </tr>\n",
       "    <tr>\n",
       "      <th>4</th>\n",
       "      <td>1.0</td>\n",
       "      <td>We travele to Lisbon for our ream vacation, a ...</td>\n",
       "      <td>negative</td>\n",
       "      <td>{'neg': 0.0, 'neu': 0.981, 'pos': 0.019, 'comp...</td>\n",
       "      <td>0.4724</td>\n",
       "    </tr>\n",
       "  </tbody>\n",
       "</table>\n",
       "</div>"
      ],
      "text/plain": [
       "   OverallRating                                         ReviewBody    rating  \\\n",
       "0            1.0  4 Hours before takeoff we receive a Mail stati...  negative   \n",
       "1            3.0  I recently ha a elay on British Airways from B...  negative   \n",
       "2            2.0  Boare on time, but it took ages to get to the ...  negative   \n",
       "3            1.0  5 ays before the flight, we were avise by BA t...  negative   \n",
       "4            1.0  We travele to Lisbon for our ream vacation, a ...  negative   \n",
       "\n",
       "                                              scores  compound  \n",
       "0  {'neg': 0.125, 'neu': 0.863, 'pos': 0.012, 'co...   -0.9392  \n",
       "1  {'neg': 0.093, 'neu': 0.81, 'pos': 0.096, 'com...    0.1779  \n",
       "2  {'neg': 0.0, 'neu': 1.0, 'pos': 0.0, 'compound...    0.0000  \n",
       "3  {'neg': 0.092, 'neu': 0.803, 'pos': 0.106, 'co...    0.5919  \n",
       "4  {'neg': 0.0, 'neu': 0.981, 'pos': 0.019, 'comp...    0.4724  "
      ]
     },
     "execution_count": 73,
     "metadata": {},
     "output_type": "execute_result"
    }
   ],
   "source": [
    "# From 0 to 1 indicates positive reviews while negative reviews are indicated by negative numbers\n",
    "\n",
    "data.head()"
   ]
  },
  {
   "cell_type": "code",
   "execution_count": 74,
   "id": "181a76cd-c9a3-45ea-bff2-43880b48aa08",
   "metadata": {},
   "outputs": [
    {
     "name": "stderr",
     "output_type": "stream",
     "text": [
      "C:\\Users\\DELL\\AppData\\Local\\Temp\\ipykernel_5540\\880319131.py:1: SettingWithCopyWarning: \n",
      "A value is trying to be set on a copy of a slice from a DataFrame.\n",
      "Try using .loc[row_indexer,col_indexer] = value instead\n",
      "\n",
      "See the caveats in the documentation: https://pandas.pydata.org/pandas-docs/stable/user_guide/indexing.html#returning-a-view-versus-a-copy\n",
      "  data['compound_rating']= data['compound'].apply(lambda score: 'positive' if score >= 0 else 'negative')\n"
     ]
    }
   ],
   "source": [
    "data['compound_rating']= data['compound'].apply(lambda score: 'positive' if score >= 0 else 'negative')"
   ]
  },
  {
   "cell_type": "code",
   "execution_count": 76,
   "id": "977b3a2b-ee6d-4366-a5d5-917ef9b65116",
   "metadata": {},
   "outputs": [
    {
     "data": {
      "text/html": [
       "<div>\n",
       "<style scoped>\n",
       "    .dataframe tbody tr th:only-of-type {\n",
       "        vertical-align: middle;\n",
       "    }\n",
       "\n",
       "    .dataframe tbody tr th {\n",
       "        vertical-align: top;\n",
       "    }\n",
       "\n",
       "    .dataframe thead th {\n",
       "        text-align: right;\n",
       "    }\n",
       "</style>\n",
       "<table border=\"1\" class=\"dataframe\">\n",
       "  <thead>\n",
       "    <tr style=\"text-align: right;\">\n",
       "      <th></th>\n",
       "      <th>OverallRating</th>\n",
       "      <th>ReviewBody</th>\n",
       "      <th>rating</th>\n",
       "      <th>scores</th>\n",
       "      <th>compound</th>\n",
       "      <th>compound_rating</th>\n",
       "    </tr>\n",
       "  </thead>\n",
       "  <tbody>\n",
       "    <tr>\n",
       "      <th>0</th>\n",
       "      <td>1.0</td>\n",
       "      <td>4 Hours before takeoff we receive a Mail stati...</td>\n",
       "      <td>negative</td>\n",
       "      <td>{'neg': 0.125, 'neu': 0.863, 'pos': 0.012, 'co...</td>\n",
       "      <td>-0.9392</td>\n",
       "      <td>negative</td>\n",
       "    </tr>\n",
       "    <tr>\n",
       "      <th>1</th>\n",
       "      <td>3.0</td>\n",
       "      <td>I recently ha a elay on British Airways from B...</td>\n",
       "      <td>negative</td>\n",
       "      <td>{'neg': 0.093, 'neu': 0.81, 'pos': 0.096, 'com...</td>\n",
       "      <td>0.1779</td>\n",
       "      <td>positive</td>\n",
       "    </tr>\n",
       "    <tr>\n",
       "      <th>2</th>\n",
       "      <td>2.0</td>\n",
       "      <td>Boare on time, but it took ages to get to the ...</td>\n",
       "      <td>negative</td>\n",
       "      <td>{'neg': 0.0, 'neu': 1.0, 'pos': 0.0, 'compound...</td>\n",
       "      <td>0.0000</td>\n",
       "      <td>positive</td>\n",
       "    </tr>\n",
       "    <tr>\n",
       "      <th>3</th>\n",
       "      <td>1.0</td>\n",
       "      <td>5 ays before the flight, we were avise by BA t...</td>\n",
       "      <td>negative</td>\n",
       "      <td>{'neg': 0.092, 'neu': 0.803, 'pos': 0.106, 'co...</td>\n",
       "      <td>0.5919</td>\n",
       "      <td>positive</td>\n",
       "    </tr>\n",
       "    <tr>\n",
       "      <th>4</th>\n",
       "      <td>1.0</td>\n",
       "      <td>We travele to Lisbon for our ream vacation, a ...</td>\n",
       "      <td>negative</td>\n",
       "      <td>{'neg': 0.0, 'neu': 0.981, 'pos': 0.019, 'comp...</td>\n",
       "      <td>0.4724</td>\n",
       "      <td>positive</td>\n",
       "    </tr>\n",
       "  </tbody>\n",
       "</table>\n",
       "</div>"
      ],
      "text/plain": [
       "   OverallRating                                         ReviewBody    rating  \\\n",
       "0            1.0  4 Hours before takeoff we receive a Mail stati...  negative   \n",
       "1            3.0  I recently ha a elay on British Airways from B...  negative   \n",
       "2            2.0  Boare on time, but it took ages to get to the ...  negative   \n",
       "3            1.0  5 ays before the flight, we were avise by BA t...  negative   \n",
       "4            1.0  We travele to Lisbon for our ream vacation, a ...  negative   \n",
       "\n",
       "                                              scores  compound compound_rating  \n",
       "0  {'neg': 0.125, 'neu': 0.863, 'pos': 0.012, 'co...   -0.9392        negative  \n",
       "1  {'neg': 0.093, 'neu': 0.81, 'pos': 0.096, 'com...    0.1779        positive  \n",
       "2  {'neg': 0.0, 'neu': 1.0, 'pos': 0.0, 'compound...    0.0000        positive  \n",
       "3  {'neg': 0.092, 'neu': 0.803, 'pos': 0.106, 'co...    0.5919        positive  \n",
       "4  {'neg': 0.0, 'neu': 0.981, 'pos': 0.019, 'comp...    0.4724        positive  "
      ]
     },
     "execution_count": 76,
     "metadata": {},
     "output_type": "execute_result"
    }
   ],
   "source": [
    "data.head()"
   ]
  },
  {
   "cell_type": "code",
   "execution_count": 79,
   "id": "9d6466fc-7689-4164-a8c3-91164a600a4b",
   "metadata": {},
   "outputs": [],
   "source": [
    "# Sentiment Classification\n",
    "\n",
    "from sklearn.svm import LinearSVC\n",
    "from sklearn.pipeline import Pipeline\n",
    "from sklearn.feature_extraction.text import TfidfVectorizer"
   ]
  },
  {
   "cell_type": "code",
   "execution_count": 80,
   "id": "d354c710-aa6a-4cb8-8c7c-98fc67fe34a2",
   "metadata": {},
   "outputs": [],
   "source": [
    "# creating our pipeline\n",
    "\n",
    "textclf = Pipeline([('tfidf', TfidfVectorizer()), ('clf', LinearSVC())])"
   ]
  },
  {
   "cell_type": "code",
   "execution_count": 85,
   "id": "113176b5-36c0-42e4-bc40-51ba89247fe6",
   "metadata": {},
   "outputs": [],
   "source": [
    "x = data['ReviewBody']\n",
    "y = data['compound_rating']"
   ]
  },
  {
   "cell_type": "code",
   "execution_count": 98,
   "id": "db211f77-18de-43f1-8b83-aaacf0249a19",
   "metadata": {},
   "outputs": [],
   "source": [
    "from sklearn.model_selection import train_test_split\n",
    "X_train, X_test, y_train, y_test = train_test_split(x,y, test_size = 0.3, random_state = 50)"
   ]
  },
  {
   "cell_type": "code",
   "execution_count": 87,
   "id": "3c551de4-4e1b-4d8f-bd2d-6046b9624d2d",
   "metadata": {},
   "outputs": [
    {
     "data": {
      "text/html": [
       "<style>#sk-container-id-1 {color: black;background-color: white;}#sk-container-id-1 pre{padding: 0;}#sk-container-id-1 div.sk-toggleable {background-color: white;}#sk-container-id-1 label.sk-toggleable__label {cursor: pointer;display: block;width: 100%;margin-bottom: 0;padding: 0.3em;box-sizing: border-box;text-align: center;}#sk-container-id-1 label.sk-toggleable__label-arrow:before {content: \"▸\";float: left;margin-right: 0.25em;color: #696969;}#sk-container-id-1 label.sk-toggleable__label-arrow:hover:before {color: black;}#sk-container-id-1 div.sk-estimator:hover label.sk-toggleable__label-arrow:before {color: black;}#sk-container-id-1 div.sk-toggleable__content {max-height: 0;max-width: 0;overflow: hidden;text-align: left;background-color: #f0f8ff;}#sk-container-id-1 div.sk-toggleable__content pre {margin: 0.2em;color: black;border-radius: 0.25em;background-color: #f0f8ff;}#sk-container-id-1 input.sk-toggleable__control:checked~div.sk-toggleable__content {max-height: 200px;max-width: 100%;overflow: auto;}#sk-container-id-1 input.sk-toggleable__control:checked~label.sk-toggleable__label-arrow:before {content: \"▾\";}#sk-container-id-1 div.sk-estimator input.sk-toggleable__control:checked~label.sk-toggleable__label {background-color: #d4ebff;}#sk-container-id-1 div.sk-label input.sk-toggleable__control:checked~label.sk-toggleable__label {background-color: #d4ebff;}#sk-container-id-1 input.sk-hidden--visually {border: 0;clip: rect(1px 1px 1px 1px);clip: rect(1px, 1px, 1px, 1px);height: 1px;margin: -1px;overflow: hidden;padding: 0;position: absolute;width: 1px;}#sk-container-id-1 div.sk-estimator {font-family: monospace;background-color: #f0f8ff;border: 1px dotted black;border-radius: 0.25em;box-sizing: border-box;margin-bottom: 0.5em;}#sk-container-id-1 div.sk-estimator:hover {background-color: #d4ebff;}#sk-container-id-1 div.sk-parallel-item::after {content: \"\";width: 100%;border-bottom: 1px solid gray;flex-grow: 1;}#sk-container-id-1 div.sk-label:hover label.sk-toggleable__label {background-color: #d4ebff;}#sk-container-id-1 div.sk-serial::before {content: \"\";position: absolute;border-left: 1px solid gray;box-sizing: border-box;top: 0;bottom: 0;left: 50%;z-index: 0;}#sk-container-id-1 div.sk-serial {display: flex;flex-direction: column;align-items: center;background-color: white;padding-right: 0.2em;padding-left: 0.2em;position: relative;}#sk-container-id-1 div.sk-item {position: relative;z-index: 1;}#sk-container-id-1 div.sk-parallel {display: flex;align-items: stretch;justify-content: center;background-color: white;position: relative;}#sk-container-id-1 div.sk-item::before, #sk-container-id-1 div.sk-parallel-item::before {content: \"\";position: absolute;border-left: 1px solid gray;box-sizing: border-box;top: 0;bottom: 0;left: 50%;z-index: -1;}#sk-container-id-1 div.sk-parallel-item {display: flex;flex-direction: column;z-index: 1;position: relative;background-color: white;}#sk-container-id-1 div.sk-parallel-item:first-child::after {align-self: flex-end;width: 50%;}#sk-container-id-1 div.sk-parallel-item:last-child::after {align-self: flex-start;width: 50%;}#sk-container-id-1 div.sk-parallel-item:only-child::after {width: 0;}#sk-container-id-1 div.sk-dashed-wrapped {border: 1px dashed gray;margin: 0 0.4em 0.5em 0.4em;box-sizing: border-box;padding-bottom: 0.4em;background-color: white;}#sk-container-id-1 div.sk-label label {font-family: monospace;font-weight: bold;display: inline-block;line-height: 1.2em;}#sk-container-id-1 div.sk-label-container {text-align: center;}#sk-container-id-1 div.sk-container {/* jupyter's `normalize.less` sets `[hidden] { display: none; }` but bootstrap.min.css set `[hidden] { display: none !important; }` so we also need the `!important` here to be able to override the default hidden behavior on the sphinx rendered scikit-learn.org. See: https://github.com/scikit-learn/scikit-learn/issues/21755 */display: inline-block !important;position: relative;}#sk-container-id-1 div.sk-text-repr-fallback {display: none;}</style><div id=\"sk-container-id-1\" class=\"sk-top-container\"><div class=\"sk-text-repr-fallback\"><pre>Pipeline(steps=[(&#x27;tfidf&#x27;, TfidfVectorizer()), (&#x27;clf&#x27;, LinearSVC())])</pre><b>In a Jupyter environment, please rerun this cell to show the HTML representation or trust the notebook. <br />On GitHub, the HTML representation is unable to render, please try loading this page with nbviewer.org.</b></div><div class=\"sk-container\" hidden><div class=\"sk-item sk-dashed-wrapped\"><div class=\"sk-label-container\"><div class=\"sk-label sk-toggleable\"><input class=\"sk-toggleable__control sk-hidden--visually\" id=\"sk-estimator-id-1\" type=\"checkbox\" ><label for=\"sk-estimator-id-1\" class=\"sk-toggleable__label sk-toggleable__label-arrow\">Pipeline</label><div class=\"sk-toggleable__content\"><pre>Pipeline(steps=[(&#x27;tfidf&#x27;, TfidfVectorizer()), (&#x27;clf&#x27;, LinearSVC())])</pre></div></div></div><div class=\"sk-serial\"><div class=\"sk-item\"><div class=\"sk-estimator sk-toggleable\"><input class=\"sk-toggleable__control sk-hidden--visually\" id=\"sk-estimator-id-2\" type=\"checkbox\" ><label for=\"sk-estimator-id-2\" class=\"sk-toggleable__label sk-toggleable__label-arrow\">TfidfVectorizer</label><div class=\"sk-toggleable__content\"><pre>TfidfVectorizer()</pre></div></div></div><div class=\"sk-item\"><div class=\"sk-estimator sk-toggleable\"><input class=\"sk-toggleable__control sk-hidden--visually\" id=\"sk-estimator-id-3\" type=\"checkbox\" ><label for=\"sk-estimator-id-3\" class=\"sk-toggleable__label sk-toggleable__label-arrow\">LinearSVC</label><div class=\"sk-toggleable__content\"><pre>LinearSVC()</pre></div></div></div></div></div></div></div>"
      ],
      "text/plain": [
       "Pipeline(steps=[('tfidf', TfidfVectorizer()), ('clf', LinearSVC())])"
      ]
     },
     "execution_count": 87,
     "metadata": {},
     "output_type": "execute_result"
    }
   ],
   "source": [
    "# Using SVM classifier\n",
    "\n",
    "textclf.fit(X_train, y_train)"
   ]
  },
  {
   "cell_type": "code",
   "execution_count": 88,
   "id": "beb6a3e8-08ca-4e09-b7d3-ba10408e4c17",
   "metadata": {},
   "outputs": [
    {
     "data": {
      "text/plain": [
       "array(['positive', 'positive', 'negative', ..., 'positive', 'positive',\n",
       "       'positive'], dtype=object)"
      ]
     },
     "execution_count": 88,
     "metadata": {},
     "output_type": "execute_result"
    }
   ],
   "source": [
    "prediction = textclf.predict(X_test)\n",
    "prediction"
   ]
  },
  {
   "cell_type": "code",
   "execution_count": 89,
   "id": "21f486ae-9234-48b1-9abb-f897d405e2b5",
   "metadata": {},
   "outputs": [],
   "source": [
    "from sklearn.metrics import accuracy_score, confusion_matrix, ConfusionMatrixDisplay"
   ]
  },
  {
   "cell_type": "code",
   "execution_count": 90,
   "id": "6ab05f81-565c-4f98-9279-ef74b9a72bcc",
   "metadata": {},
   "outputs": [
    {
     "name": "stdout",
     "output_type": "stream",
     "text": [
      "0.796028880866426\n"
     ]
    }
   ],
   "source": [
    "print(accuracy_score(y_test, prediction))"
   ]
  },
  {
   "cell_type": "code",
   "execution_count": 91,
   "id": "ad9d3d1f-755e-4f76-8176-ecb7795c177e",
   "metadata": {},
   "outputs": [
    {
     "data": {
      "text/plain": [
       "array([[178, 153],\n",
       "       [ 73, 704]], dtype=int64)"
      ]
     },
     "execution_count": 91,
     "metadata": {},
     "output_type": "execute_result"
    }
   ],
   "source": [
    "cm = confusion_matrix(y_test, prediction)\n",
    "cm"
   ]
  },
  {
   "cell_type": "code",
   "execution_count": 93,
   "id": "d9d2523b-6019-4ef5-9429-d5d9c9da52ad",
   "metadata": {},
   "outputs": [],
   "source": [
    "import matplotlib\n",
    "import matplotlib.pyplot as plt\n",
    "%matplotlib inline\n",
    "matplotlib.rc(\"figure\", figsize = (20,10))"
   ]
  },
  {
   "cell_type": "code",
   "execution_count": 94,
   "id": "5c451383-ff75-41d7-b479-3cbc74e82615",
   "metadata": {},
   "outputs": [
    {
     "data": {
      "text/plain": [
       "<sklearn.metrics._plot.confusion_matrix.ConfusionMatrixDisplay at 0x21ef1cb3150>"
      ]
     },
     "execution_count": 94,
     "metadata": {},
     "output_type": "execute_result"
    }
   ],
   "source": [
    "cm_display = ConfusionMatrixDisplay(confusion_matrix = cm, display_labels = [False, True])\n",
    "cm_display"
   ]
  },
  {
   "cell_type": "code",
   "execution_count": 95,
   "id": "44b4e313-dc79-490a-a299-2c8046bd2961",
   "metadata": {},
   "outputs": [
    {
     "data": {
      "image/png": "[encoded data removed]",
      "text/plain": [
       "<Figure size 2000x1000 with 2 Axes>"
      ]
     },
     "metadata": {},
     "output_type": "display_data"
    }
   ],
   "source": [
    "cm_display.plot()\n",
    "plt.show()"
   ]
  },
  {
   "cell_type": "code",
   "execution_count": null,
   "id": "dfccd09c-73f3-44ba-bb72-7fda35c35241",
   "metadata": {},
   "outputs": [],
   "source": []
  },
  {
   "cell_type": "code",
   "execution_count": null,
   "id": "385ce2df-069b-40ad-986e-66188288dd4f",
   "metadata": {},
   "outputs": [],
   "source": []
  }
 ],
 "metadata": {
  "kernelspec": {
   "display_name": "Python 3 (ipykernel)",
   "language": "python",
   "name": "python3"
  },
  "language_info": {
   "codemirror_mode": {
    "name": "ipython",
    "version": 3
   },
   "file_extension": ".py",
   "mimetype": "text/x-python",
   "name": "python",
   "nbconvert_exporter": "python",
   "pygments_lexer": "ipython3",
   "version": "3.11.7"
  }
 },
 "nbformat": 4,
 "nbformat_minor": 5
}
